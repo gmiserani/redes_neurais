{
 "cells": [
  {
   "cell_type": "markdown",
   "metadata": {},
   "source": [
    "Primeiro, devemos importar as bibliotecas a serem usadas"
   ]
  },
  {
   "cell_type": "code",
   "execution_count": null,
   "metadata": {},
   "outputs": [],
   "source": [
    "import torch\n",
    "import torch.nn as nn\n",
    "import torch.optim as optim\n",
    "import pandas as pd\n",
    "import numpy as np\n",
    "import matplotlib.pyplot as plt\n",
    "from sklearn.model_selection import train_test_split\n",
    "from sklearn.preprocessing import StandardScaler, OneHotEncoder\n"
   ]
  },
  {
   "cell_type": "markdown",
   "metadata": {},
   "source": [
    "A primeira parte da implementação consiste em carregar os dados"
   ]
  },
  {
   "cell_type": "code",
   "execution_count": null,
   "metadata": {},
   "outputs": [],
   "source": [
    "file_path = 'data_tp1'\n",
    "data = pd.read_csv(file_path, header=None)\n",
    "\n",
    "data.head()"
   ]
  },
  {
   "cell_type": "markdown",
   "metadata": {},
   "source": [
    "primeiro passo: v1 = 1*b1 + x1 * w11 + x2 * w12 + ... + x784 w784784\n",
    "passo 2: funcao de ativaocao sigmoid = 1/1+eˆ-z = y1 -> saida neuronio 1\n",
    "passo 3: fazer para cada neuronio\n",
    "            v2 = 1*b2 + x1 * w21 + x2 * w22....\n",
    "passo 4: passa pelo sigmoid \n",
    "\n",
    "faz para cada um dos neuronios com a mesma entrada e um vetor de peso aleatorio\n",
    "\n",
    "(25, 50, 100)\n",
    "\n",
    "neuronio de saida (10)\n",
    "calcula o vsaida(26): b + y1 * wxx + y2 * wxy...\n",
    "aplica funcao sigmoid -> y26 (saida)\n",
    "\n",
    "calc do erro:\n",
    "o = target output\n",
    "err = o-y26\n",
    "\n",
    "backword\n",
    "calc gradiente (contribuicao de cada no pro err)\n",
    "(derivada da funcao de ativacao do v3 * err)\n",
    "\n",
    "grad 3 neuronio derivada da funcao de ativacao de v3 * gradiente do de cima * peso do neuronio de saida\n",
    "\n",
    "grad 2 neuronio derivada da funcao de ativ de v2 * gradiete do output * w q sai dele em direcao a saida\n",
    "\n",
    "derivada da func de ativacao = func de ativacao * (1-func de ativacao)\n",
    "\n",
    "com isso tem o calc do gradiente de cada neuronio \n",
    "\n",
    "ATUALIZACAO DOS PESOS\n",
    "usa a regra do gradiente:\n",
    "Wi+1 = W + const * Wi-1 + tx aprend * grad * entrada\n",
    " "
   ]
  }
 ],
 "metadata": {
  "kernelspec": {
   "display_name": "Python 3",
   "language": "python",
   "name": "python3"
  },
  "language_info": {
   "name": "python",
   "version": "3.10.11"
  }
 },
 "nbformat": 4,
 "nbformat_minor": 2
}
